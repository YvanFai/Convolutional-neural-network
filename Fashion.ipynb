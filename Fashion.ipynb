{
 "cells": [
  {
   "cell_type": "code",
   "execution_count": 1,
   "metadata": {},
   "outputs": [
    {
     "name": "stderr",
     "output_type": "stream",
     "text": [
      "2023-10-29 09:38:16.582989: I tensorflow/tsl/cuda/cudart_stub.cc:28] Could not find cuda drivers on your machine, GPU will not be used.\n",
      "2023-10-29 09:38:23.470229: I tensorflow/tsl/cuda/cudart_stub.cc:28] Could not find cuda drivers on your machine, GPU will not be used.\n",
      "2023-10-29 09:38:33.324756: W tensorflow/compiler/tf2tensorrt/utils/py_utils.cc:38] TF-TRT Warning: Could not find TensorRT\n"
     ]
    }
   ],
   "source": [
    "import numpy as np\n",
    "import matplotlib.pyplot as plt\n",
    "import tensorflow as tf\n",
    "from tensorflow import keras\n",
    "from keras.datasets import fashion_mnist"
   ]
  },
  {
   "cell_type": "code",
   "execution_count": 2,
   "metadata": {},
   "outputs": [
    {
     "name": "stdout",
     "output_type": "stream",
     "text": [
      "(60000, 28, 28)\n",
      "(10000, 28, 28)\n",
      "(60000,)\n",
      "(10000,)\n"
     ]
    }
   ],
   "source": [
    "#Loading dataset\n",
    "(X_train , y_train) , (X_test , y_test) = fashion_mnist.load_data()\n",
    "\n",
    "print(X_train.shape)\n",
    "print(X_test.shape)\n",
    "print(y_train.shape)\n",
    "print(y_test.shape)"
   ]
  },
  {
   "cell_type": "code",
   "execution_count": 3,
   "metadata": {},
   "outputs": [],
   "source": [
    "#Class-names\n",
    "class_names = ['top', 'Trousers', 'Pullover', 'Dress', 'Coat', 'Sandal', 'Shirt', 'Sneaker', 'Bag', 'Ankle boot']"
   ]
  },
  {
   "cell_type": "code",
   "execution_count": 4,
   "metadata": {},
   "outputs": [
    {
     "name": "stdout",
     "output_type": "stream",
     "text": [
      "(60000, 28, 28, 1)\n",
      "(10000, 28, 28, 1)\n"
     ]
    }
   ],
   "source": [
    "#Preprocessing\n",
    "X_train = X_train / 255\n",
    "X_test = X_test / 255\n",
    "\n",
    "#black and white image\n",
    "X_train = X_train.reshape(60000 , 28 , 28 , 1) #a single color channel\n",
    "X_test = X_test.reshape(10000 , 28 , 28 , 1)\n",
    "\n",
    "print(X_train.shape)\n",
    "print(X_test.shape)"
   ]
  },
  {
   "cell_type": "code",
   "execution_count": 5,
   "metadata": {},
   "outputs": [
    {
     "data": {
      "text/plain": [
       "<matplotlib.image.AxesImage at 0x7f4143e0c7f0>"
      ]
     },
     "execution_count": 5,
     "metadata": {},
     "output_type": "execute_result"
    },
    {
     "data": {
      "image/png": "[encoded data removed]",
      "text/plain": [
       "<Figure size 640x480 with 1 Axes>"
      ]
     },
     "metadata": {},
     "output_type": "display_data"
    }
   ],
   "source": [
    "#Showing test\n",
    "plt.imshow(X_train[55].reshape((28 , 28)) , cmap = plt.cm.binary)"
   ]
  },
  {
   "cell_type": "code",
   "execution_count": 6,
   "metadata": {},
   "outputs": [],
   "source": [
    "#Construction of the CNN\n",
    "model = tf.keras.models.Sequential()"
   ]
  },
  {
   "cell_type": "code",
   "execution_count": 7,
   "metadata": {},
   "outputs": [],
   "source": [
    "#CNN\n",
    "model.add(tf.keras.layers.Conv2D(filters = 32 , kernel_size = 3 , activation = 'relu' , input_shape = (28 , 28 , 1)))\n",
    "model.add(tf.keras.layers.MaxPooling2D(pool_size = 3))\n",
    "\n",
    "model.add(tf.keras.layers.Conv2D(filters = 16 , kernel_size = 3 , activation = 'relu'))\n",
    "model.add(tf.keras.layers.MaxPooling2D(pool_size = 3))\n",
    "\n",
    "model.add(tf.keras.layers.Flatten()) #Flatten the image\n",
    "\n",
    "#ANN Classic\n",
    "model.add(tf.keras.layers.Dense(256 , activation = 'relu'))\n",
    "model.add(tf.keras.layers.Dropout(0.5)) #To avoid overfitting\n",
    "model.add(tf.keras.layers.Dense(10 , activation = 'softmax'))"
   ]
  },
  {
   "cell_type": "code",
   "execution_count": 8,
   "metadata": {},
   "outputs": [
    {
     "name": "stdout",
     "output_type": "stream",
     "text": [
      "Model: \"sequential\"\n",
      "_________________________________________________________________\n",
      " Layer (type)                Output Shape              Param #   \n",
      "=================================================================\n",
      " conv2d (Conv2D)             (None, 26, 26, 32)        320       \n",
      "                                                                 \n",
      " max_pooling2d (MaxPooling2  (None, 8, 8, 32)          0         \n",
      " D)                                                              \n",
      "                                                                 \n",
      " conv2d_1 (Conv2D)           (None, 6, 6, 16)          4624      \n",
      "                                                                 \n",
      " max_pooling2d_1 (MaxPoolin  (None, 2, 2, 16)          0         \n",
      " g2D)                                                            \n",
      "                                                                 \n",
      " flatten (Flatten)           (None, 64)                0         \n",
      "                                                                 \n",
      " dense (Dense)               (None, 256)               16640     \n",
      "                                                                 \n",
      " dropout (Dropout)           (None, 256)               0         \n",
      "                                                                 \n",
      " dense_1 (Dense)             (None, 10)                2570      \n",
      "                                                                 \n",
      "=================================================================\n",
      "Total params: 24154 (94.35 KB)\n",
      "Trainable params: 24154 (94.35 KB)\n",
      "Non-trainable params: 0 (0.00 Byte)\n",
      "_________________________________________________________________\n"
     ]
    }
   ],
   "source": [
    "#Summary\n",
    "model.summary()"
   ]
  },
  {
   "cell_type": "code",
   "execution_count": 9,
   "metadata": {},
   "outputs": [],
   "source": [
    "#Compilation\n",
    "model.compile(loss = \"sparse_categorical_crossentropy\" , \n",
    "              optimizer = \"Adam\" , metrics = [\"sparse_categorical_accuracy\"])"
   ]
  },
  {
   "cell_type": "code",
   "execution_count": 10,
   "metadata": {},
   "outputs": [
    {
     "name": "stderr",
     "output_type": "stream",
     "text": [
      "2023-10-29 09:41:18.090953: W tensorflow/tsl/framework/cpu_allocator_impl.cc:83] Allocation of 188160000 exceeds 10% of free system memory.\n"
     ]
    },
    {
     "name": "stdout",
     "output_type": "stream",
     "text": [
      "Epoch 1/10\n",
      "   5/1875 [..............................] - ETA: 53s - loss: 2.2902 - sparse_categorical_accuracy: 0.1750   "
     ]
    },
    {
     "name": "stderr",
     "output_type": "stream",
     "text": [
      "2023-10-29 09:41:46.065470: W tensorflow/tsl/framework/cpu_allocator_impl.cc:83] Allocation of 20984832 exceeds 10% of free system memory.\n",
      "2023-10-29 09:41:46.071591: W tensorflow/tsl/framework/cpu_allocator_impl.cc:83] Allocation of 20984832 exceeds 10% of free system memory.\n",
      "2023-10-29 09:41:46.176188: W tensorflow/tsl/framework/cpu_allocator_impl.cc:83] Allocation of 20984832 exceeds 10% of free system memory.\n",
      "2023-10-29 09:41:46.176338: W tensorflow/tsl/framework/cpu_allocator_impl.cc:83] Allocation of 20984832 exceeds 10% of free system memory.\n"
     ]
    },
    {
     "name": "stdout",
     "output_type": "stream",
     "text": [
      "1875/1875 [==============================] - 35s 14ms/step - loss: 0.6646 - sparse_categorical_accuracy: 0.7560\n",
      "Epoch 2/10\n",
      "1875/1875 [==============================] - 26s 14ms/step - loss: 0.4431 - sparse_categorical_accuracy: 0.8376\n",
      "Epoch 3/10\n",
      "1875/1875 [==============================] - 26s 14ms/step - loss: 0.3932 - sparse_categorical_accuracy: 0.8568\n",
      "Epoch 4/10\n",
      "1875/1875 [==============================] - 26s 14ms/step - loss: 0.3616 - sparse_categorical_accuracy: 0.8674\n",
      "Epoch 5/10\n",
      "1875/1875 [==============================] - 26s 14ms/step - loss: 0.3416 - sparse_categorical_accuracy: 0.8758\n",
      "Epoch 6/10\n",
      "1875/1875 [==============================] - 27s 14ms/step - loss: 0.3266 - sparse_categorical_accuracy: 0.8812\n",
      "Epoch 7/10\n",
      "1875/1875 [==============================] - 26s 14ms/step - loss: 0.3146 - sparse_categorical_accuracy: 0.8837\n",
      "Epoch 8/10\n",
      "1875/1875 [==============================] - 27s 14ms/step - loss: 0.3035 - sparse_categorical_accuracy: 0.8893\n",
      "Epoch 9/10\n",
      "1875/1875 [==============================] - 29s 15ms/step - loss: 0.2952 - sparse_categorical_accuracy: 0.8914\n",
      "Epoch 10/10\n",
      "1875/1875 [==============================] - 32s 17ms/step - loss: 0.2879 - sparse_categorical_accuracy: 0.8938\n"
     ]
    },
    {
     "data": {
      "text/plain": [
       "<keras.src.callbacks.History at 0x7f4140ad8b20>"
      ]
     },
     "execution_count": 10,
     "metadata": {},
     "output_type": "execute_result"
    }
   ],
   "source": [
    "#Training\n",
    "model.fit(X_train , y_train , epochs = 10)"
   ]
  },
  {
   "cell_type": "code",
   "execution_count": 11,
   "metadata": {},
   "outputs": [
    {
     "name": "stdout",
     "output_type": "stream",
     "text": [
      "\n",
      " Test accuracy :  0.8881999850273132\n"
     ]
    }
   ],
   "source": [
    "#Evaluate model on the test set\n",
    "score = model.evaluate(X_test , y_test , verbose = 0)\n",
    "#Print test accuracy\n",
    "print('\\n' , 'Test accuracy : ' , score[1])"
   ]
  },
  {
   "cell_type": "code",
   "execution_count": 12,
   "metadata": {},
   "outputs": [
    {
     "name": "stdout",
     "output_type": "stream",
     "text": [
      "313/313 [==============================] - 2s 6ms/step\n"
     ]
    }
   ],
   "source": [
    "#Prediction\n",
    "prediction = model.predict(X_test)"
   ]
  },
  {
   "cell_type": "code",
   "execution_count": 16,
   "metadata": {},
   "outputs": [],
   "source": [
    "#Visualisation function\n",
    "def plot(i , predictions_array , true_label , img):\n",
    "    predictions_array , true_label , img = predictions_array , true_label[i] , img[i]\n",
    "    plt.grid(False)\n",
    "    plt.xticks([])\n",
    "    plt.yticks([])\n",
    "\n",
    "    plt.imshow(img , cmap = plt.cm.binary)\n",
    "\n",
    "    predicted_label = np.argmax(predictions_array)\n",
    "    if predicted_label == true_label:\n",
    "        color = 'green'\n",
    "    else:\n",
    "        color = 'red'\n",
    "\n",
    "    plt.xlabel(\"{} {:2.0f}% ({})\".format(class_names[predicted_label] , \n",
    "                                         100 * np.max(predictions_array) , \n",
    "                                         class_names[true_label]) , \n",
    "                                         color = color)\n",
    "    \n",
    "def plot_value(i , predictions_array , true_label):\n",
    "    predictions_array , true_label , img = predictions_array , true_label[i] , img[i]\n",
    "    plt.grid(False)\n",
    "    plt.xticks(range(10))\n",
    "    plt.yticks([]) \n",
    "    thisplot = plt.bar(range(10) , predictions_array , color = \"#777777\")\n",
    "    plt.ylim([0 , 1])\n",
    "    predicted_label = np.argmax(predictions_array)\n",
    "\n",
    "    thisplot[predicted_label].set_color('red')\n",
    "    thisplot[true_label].set_color('green')"
   ]
  },
  {
   "cell_type": "code",
   "execution_count": 17,
   "metadata": {},
   "outputs": [],
   "source": [
    "(images_train , label_train) , (images_test , label_test) = fashion_mnist.load_data()"
   ]
  },
  {
   "cell_type": "code",
   "execution_count": 23,
   "metadata": {},
   "outputs": [
    {
     "data": {
      "image/png": "[encoded data removed]",
      "text/plain": [
       "<Figure size 600x400 with 1 Axes>"
      ]
     },
     "metadata": {},
     "output_type": "display_data"
    }
   ],
   "source": [
    "i = 1024\n",
    "plt.figure(figsize = (6 , 4))\n",
    "plt.subplot(1 , 2 , 1)\n",
    "plot(i , prediction[i] , label_test , images_test)\n",
    "\n",
    "plt.show()"
   ]
  },
  {
   "cell_type": "code",
   "execution_count": null,
   "metadata": {},
   "outputs": [],
   "source": []
  }
 ],
 "metadata": {
  "kernelspec": {
   "display_name": "Python 3",
   "language": "python",
   "name": "python3"
  },
  "language_info": {
   "codemirror_mode": {
    "name": "ipython",
    "version": 3
   },
   "file_extension": ".py",
   "mimetype": "text/x-python",
   "name": "python",
   "nbconvert_exporter": "python",
   "pygments_lexer": "ipython3",
   "version": "3.10.12"
  }
 },
 "nbformat": 4,
 "nbformat_minor": 2
}
